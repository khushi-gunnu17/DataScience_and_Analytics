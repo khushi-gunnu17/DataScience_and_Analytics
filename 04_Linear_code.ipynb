{
 "cells": [
  {
   "cell_type": "code",
   "execution_count": 1,
   "metadata": {},
   "outputs": [],
   "source": [
    "import numpy as np"
   ]
  },
  {
   "cell_type": "code",
   "execution_count": 10,
   "id": "99445685",
   "metadata": {},
   "outputs": [],
   "source": [
    "data = np.loadtxt(\"data.csv\", delimiter=\",\")"
   ]
  },
  {
   "cell_type": "code",
   "execution_count": 11,
   "id": "0074e9d6",
   "metadata": {},
   "outputs": [],
   "source": [
    "x = data[:, 0]\n",
    "y = data[:, 1]"
   ]
  },
  {
   "cell_type": "code",
   "execution_count": 12,
   "id": "6a4e2177",
   "metadata": {},
   "outputs": [
    {
     "data": {
      "text/plain": [
       "(14,)"
      ]
     },
     "execution_count": 12,
     "metadata": {},
     "output_type": "execute_result"
    }
   ],
   "source": [
    "x.shape"
   ]
  },
  {
   "cell_type": "code",
   "execution_count": 13,
   "id": "002b3a21",
   "metadata": {},
   "outputs": [],
   "source": [
    "from sklearn import model_selection\n",
    "X_train, X_test, Y_train, Y_test = model_selection.train_test_split(x, y, test_size=0.3)"
   ]
  },
  {
   "cell_type": "code",
   "execution_count": 14,
   "id": "5353a26d",
   "metadata": {},
   "outputs": [
    {
     "data": {
      "text/plain": [
       "(9,)"
      ]
     },
     "execution_count": 14,
     "metadata": {},
     "output_type": "execute_result"
    }
   ],
   "source": [
    "X_train.shape"
   ]
  },
  {
   "cell_type": "code",
   "execution_count": 15,
   "id": "a1619e8b",
   "metadata": {},
   "outputs": [],
   "source": [
    "def fit(x_train, y_train) : \n",
    "    # element wise multiplication here \n",
    "    num = (x_train * y_train).mean() - x_train.mean() * y_train.mean()\n",
    "    den = (x_train**2).mean() - x_train.mean()**2\n",
    "    m = num/den\n",
    "    c = y_train.mean() - m * x_train.mean()\n",
    "    return m, c"
   ]
  },
  {
   "cell_type": "code",
   "execution_count": 16,
   "id": "9058aae9",
   "metadata": {},
   "outputs": [],
   "source": [
    "def predict(x, m, c) :\n",
    "    return m * x + c\n",
    "\n",
    "def score(y_truth, y_pred) :\n",
    "    u = ((y_truth - y_pred)**2).sum()\n",
    "    v = ((y_truth - y_truth.mean())**2).sum()\n",
    "    return 1 - u/v\n",
    "\n",
    "def cost(x, y, m, c) :\n",
    "    # we want the average cost, so that's why we put mean here and not sum as we are dividing it here by N. \n",
    "    return ((y - m * x - c)**2).mean()"
   ]
  },
  {
   "cell_type": "code",
   "execution_count": 17,
   "id": "d4a2a8cc",
   "metadata": {},
   "outputs": [
    {
     "name": "stdout",
     "output_type": "stream",
     "text": [
      "Test Score :  1.0\n",
      "Train Score :  1.0\n",
      "M, C :  1.000000000000001 0.9999999999999822\n",
      "Cost on training data  5.302898307319024e-29\n",
      "Cost on training data  328.1111111111111\n"
     ]
    }
   ],
   "source": [
    "m, c = fit(X_train, Y_train)\n",
    "# test data \n",
    "Y_test_pred = predict(X_test, m, c)\n",
    "print(\"Test Score : \", score(Y_test, Y_test_pred))\n",
    "\n",
    "# train data \n",
    "Y_train_pred = predict(X_train, m, c)\n",
    "print(\"Train Score : \", score(Y_train, Y_train_pred))\n",
    "print(\"M, C : \", m, c)\n",
    "\n",
    "print(\"Cost on training data \", cost(X_train, Y_train, m, c))\n",
    "print(\"Cost on training data \", cost(X_train, Y_train, m + 1, c))   # here, it should be higher"
   ]
  },
  {
   "cell_type": "code",
   "execution_count": null,
   "id": "b9c66500",
   "metadata": {},
   "outputs": [],
   "source": []
  }
 ],
 "metadata": {
  "kernelspec": {
   "display_name": "Python 3",
   "language": "python",
   "name": "python3"
  },
  "language_info": {
   "codemirror_mode": {
    "name": "ipython",
    "version": 3
   },
   "file_extension": ".py",
   "mimetype": "text/x-python",
   "name": "python",
   "nbconvert_exporter": "python",
   "pygments_lexer": "ipython3",
   "version": "3.11.7"
  }
 },
 "nbformat": 4,
 "nbformat_minor": 5
}
